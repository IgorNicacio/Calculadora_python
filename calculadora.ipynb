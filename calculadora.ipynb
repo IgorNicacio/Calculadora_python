{
  "nbformat": 4,
  "nbformat_minor": 0,
  "metadata": {
    "colab": {
      "provenance": [],
      "authorship_tag": "ABX9TyOwHeQ35HnZPySo2y2HlOVc",
      "include_colab_link": true
    },
    "kernelspec": {
      "name": "python3",
      "display_name": "Python 3"
    },
    "language_info": {
      "name": "python"
    }
  },
  "cells": [
    {
      "cell_type": "markdown",
      "metadata": {
        "id": "view-in-github",
        "colab_type": "text"
      },
      "source": [
        "<a href=\"https://colab.research.google.com/github/IgorNicacio/Calculadora_python/blob/main/calculadora.ipynb\" target=\"_parent\"><img src=\"https://colab.research.google.com/assets/colab-badge.svg\" alt=\"Open In Colab\"/></a>"
      ]
    },
    {
      "cell_type": "code",
      "execution_count": null,
      "metadata": {
        "id": "w7Umw0iRLhT0"
      },
      "outputs": [],
      "source": [
        "print(\"*Calculadora*\")\n",
        "print(\"1- Soma \\n 2-Subitração \\n 3-Multiplicação \\n 4-Divisão \\n\")\n",
        "print(\"Digite sua operação (1,2,3 ou 4): \")\n",
        "operacao = input()\n",
        "print(\"Digite o primeiro numero: \")\n",
        "numa = input()\n",
        "print(\"Digite o segundo numero: \")\n",
        "nume = input()\n",
        "\n",
        "num1 = int(numa)\n",
        "num2 = int(nume)\n",
        "\n",
        "match operacao:\n",
        "    case \"1\" :\n",
        "       sum = num1 + num2\n",
        "       sumst = str(sum)\n",
        "       print(numa + \"+\" + nume + \" = \" + sumst )\n",
        "\n",
        "    case \"2\" :\n",
        "       sum = num1 - num2\n",
        "       sumst = str(sum)\n",
        "       print(numa + \"-\" + nume + \" = \" + sumst )\n",
        "    case \"3\" :\n",
        "       sum = num1 * num2\n",
        "       sumst = str(sum)\n",
        "       print(numa + \"*\" + nume + \" = \" + sumst )\n",
        "    case \"4\" :\n",
        "       sum = num1 / num2\n",
        "       sumst = str(sum)\n",
        "       print(numa + \"/\" + nume + \" = \" + sumst )"
      ]
    },
    {
      "cell_type": "code",
      "source": [],
      "metadata": {
        "id": "cE9J0j54M32l"
      },
      "execution_count": null,
      "outputs": []
    }
  ]
}